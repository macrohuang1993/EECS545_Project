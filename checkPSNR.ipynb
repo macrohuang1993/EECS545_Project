{
 "cells": [
  {
   "cell_type": "code",
   "execution_count": null,
   "metadata": {},
   "outputs": [],
   "source": [
    "import mytrain, mytest\n",
    "from dataset import prepare_data, Dataset\n",
    "mytest.main(model_dict_path='mylogs/2000epochs_noise2clean_nocrop_bs10/model dict.pth',use_cuda=True,sig=25,test_set='Set68')"
   ]
  },
  {
   "cell_type": "code",
   "execution_count": null,
   "metadata": {},
   "outputs": [],
   "source": [
    "from dataset import prepare_data, Dataset\n",
    "train_dataset=Dataset(train=True)           "
   ]
  }
 ],
 "metadata": {
  "kernelspec": {
   "display_name": "Python 3",
   "language": "python",
   "name": "python3"
  },
  "language_info": {
   "codemirror_mode": {
    "name": "ipython",
    "version": 3
   },
   "file_extension": ".py",
   "mimetype": "text/x-python",
   "name": "python",
   "nbconvert_exporter": "python",
   "pygments_lexer": "ipython3",
   "version": "3.6.6"
  }
 },
 "nbformat": 4,
 "nbformat_minor": 2
}
